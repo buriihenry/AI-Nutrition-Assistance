{
 "cells": [
  {
   "cell_type": "code",
   "execution_count": 26,
   "id": "0930d5f8-a7e6-4924-a910-f71f71c7171e",
   "metadata": {},
   "outputs": [],
   "source": [
    "import pandas as pd"
   ]
  },
  {
   "cell_type": "code",
   "execution_count": 27,
   "id": "b6f59df3-3e68-4990-9590-4af28d7af53f",
   "metadata": {},
   "outputs": [],
   "source": [
    "df = pd.read_csv('data/unclean_nutrition.csv', sep=';')"
   ]
  },
  {
   "cell_type": "code",
   "execution_count": 16,
   "id": "15d1df1b-9092-417a-a190-caa0a52e1dd6",
   "metadata": {},
   "outputs": [
    {
     "data": {
      "text/html": [
       "<div>\n",
       "<style scoped>\n",
       "    .dataframe tbody tr th:only-of-type {\n",
       "        vertical-align: middle;\n",
       "    }\n",
       "\n",
       "    .dataframe tbody tr th {\n",
       "        vertical-align: top;\n",
       "    }\n",
       "\n",
       "    .dataframe thead th {\n",
       "        text-align: right;\n",
       "    }\n",
       "</style>\n",
       "<table border=\"1\" class=\"dataframe\">\n",
       "  <thead>\n",
       "    <tr style=\"text-align: right;\">\n",
       "      <th></th>\n",
       "      <th>Recipe Name</th>\n",
       "      <th>Ingredients</th>\n",
       "      <th>Nutritional Information</th>\n",
       "      <th>Dietary Tags</th>\n",
       "      <th>Meal Type</th>\n",
       "      <th>Cuisine Type</th>\n",
       "      <th>Instructions</th>\n",
       "    </tr>\n",
       "  </thead>\n",
       "  <tbody>\n",
       "    <tr>\n",
       "      <th>265</th>\n",
       "      <td>Falafel Wrap</td>\n",
       "      <td>Falafel, Pita bread, Lettuce, Tomatoes, Tahini...</td>\n",
       "      <td>calories: '400', proteins: '15g', fats: '20g',...</td>\n",
       "      <td>vegan</td>\n",
       "      <td>lunch</td>\n",
       "      <td>Middle Eastern</td>\n",
       "      <td>Prepare falafel according to package instructi...</td>\n",
       "    </tr>\n",
       "    <tr>\n",
       "      <th>266</th>\n",
       "      <td>Herbed Chicken Breast</td>\n",
       "      <td>Chicken breast, Olive oil, Herbs, Garlic, Lemon</td>\n",
       "      <td>calories: '300', proteins: '40g', fats: '15g',...</td>\n",
       "      <td>gluten-free</td>\n",
       "      <td>dinner</td>\n",
       "      <td>Mediterranean</td>\n",
       "      <td>Preheat oven to 200°C, Rub chicken breast with...</td>\n",
       "    </tr>\n",
       "    <tr>\n",
       "      <th>267</th>\n",
       "      <td>Ratatouille</td>\n",
       "      <td>Eggplant, Zucchini, Bell peppers, Tomato sauce...</td>\n",
       "      <td>calories: '200', proteins: '5g', fats: '5g', c...</td>\n",
       "      <td>vegan</td>\n",
       "      <td>dinner</td>\n",
       "      <td>French</td>\n",
       "      <td>Slice vegetables into thin rounds, Layer in a ...</td>\n",
       "    </tr>\n",
       "    <tr>\n",
       "      <th>268</th>\n",
       "      <td>Stuffed Bell Peppers</td>\n",
       "      <td>Bell peppers, Quinoa, Black beans, Corn, Cheese</td>\n",
       "      <td>calories: '300', proteins: '15g', fats: '10g',...</td>\n",
       "      <td>vegetarian</td>\n",
       "      <td>dinner</td>\n",
       "      <td>Mexican</td>\n",
       "      <td>Preheat oven to 190°C, Cook quinoa according t...</td>\n",
       "    </tr>\n",
       "    <tr>\n",
       "      <th>269</th>\n",
       "      <td>Peanut Butter Cookies</td>\n",
       "      <td>Peanut butter, Sugar, Eggs, Vanilla extract</td>\n",
       "      <td>calories: '150', proteins: '4g', fats: '8g', c...</td>\n",
       "      <td>vegetarian</td>\n",
       "      <td>dessert</td>\n",
       "      <td>American</td>\n",
       "      <td>Preheat oven to 180°C, In a bowl, mix peanut b...</td>\n",
       "    </tr>\n",
       "  </tbody>\n",
       "</table>\n",
       "</div>"
      ],
      "text/plain": [
       "               Recipe Name                                        Ingredients  \\\n",
       "265           Falafel Wrap  Falafel, Pita bread, Lettuce, Tomatoes, Tahini...   \n",
       "266  Herbed Chicken Breast    Chicken breast, Olive oil, Herbs, Garlic, Lemon   \n",
       "267            Ratatouille  Eggplant, Zucchini, Bell peppers, Tomato sauce...   \n",
       "268   Stuffed Bell Peppers    Bell peppers, Quinoa, Black beans, Corn, Cheese   \n",
       "269  Peanut Butter Cookies        Peanut butter, Sugar, Eggs, Vanilla extract   \n",
       "\n",
       "                               Nutritional Information Dietary Tags Meal Type  \\\n",
       "265  calories: '400', proteins: '15g', fats: '20g',...        vegan     lunch   \n",
       "266  calories: '300', proteins: '40g', fats: '15g',...  gluten-free    dinner   \n",
       "267  calories: '200', proteins: '5g', fats: '5g', c...        vegan    dinner   \n",
       "268  calories: '300', proteins: '15g', fats: '10g',...   vegetarian    dinner   \n",
       "269  calories: '150', proteins: '4g', fats: '8g', c...   vegetarian   dessert   \n",
       "\n",
       "       Cuisine Type                                       Instructions  \n",
       "265  Middle Eastern  Prepare falafel according to package instructi...  \n",
       "266   Mediterranean  Preheat oven to 200°C, Rub chicken breast with...  \n",
       "267          French  Slice vegetables into thin rounds, Layer in a ...  \n",
       "268         Mexican  Preheat oven to 190°C, Cook quinoa according t...  \n",
       "269        American  Preheat oven to 180°C, In a bowl, mix peanut b...  "
      ]
     },
     "execution_count": 16,
     "metadata": {},
     "output_type": "execute_result"
    }
   ],
   "source": [
    "df.tail()"
   ]
  },
  {
   "cell_type": "code",
   "execution_count": 21,
   "id": "44561bfe-ceef-4249-ba76-f97aa5a43d27",
   "metadata": {},
   "outputs": [],
   "source": [
    "df = df.drop_duplicates(subset='Recipe Name')"
   ]
  },
  {
   "cell_type": "code",
   "execution_count": 24,
   "id": "fa5bd9b6-25be-4927-9092-080f9e03a7ca",
   "metadata": {},
   "outputs": [],
   "source": [
    "df.to_csv('data/data.csv',index=False)"
   ]
  },
  {
   "cell_type": "code",
   "execution_count": 25,
   "id": "1286135f-0f77-4ac4-b5c4-66537ddaf7e5",
   "metadata": {},
   "outputs": [
    {
     "data": {
      "text/plain": [
       "Index(['Recipe Name', 'Ingredients', 'Nutritional Information', 'Dietary Tags',\n",
       "       'Meal Type', 'Cuisine Type', 'Instructions'],\n",
       "      dtype='object')"
      ]
     },
     "execution_count": 25,
     "metadata": {},
     "output_type": "execute_result"
    }
   ],
   "source": [
    "df.columns"
   ]
  },
  {
   "cell_type": "code",
   "execution_count": null,
   "id": "01d14e93-112a-4b20-843f-d580db367375",
   "metadata": {},
   "outputs": [],
   "source": []
  }
 ],
 "metadata": {
  "kernelspec": {
   "display_name": "Python 3 (ipykernel)",
   "language": "python",
   "name": "python3"
  },
  "language_info": {
   "codemirror_mode": {
    "name": "ipython",
    "version": 3
   },
   "file_extension": ".py",
   "mimetype": "text/x-python",
   "name": "python",
   "nbconvert_exporter": "python",
   "pygments_lexer": "ipython3",
   "version": "3.11.9"
  }
 },
 "nbformat": 4,
 "nbformat_minor": 5
}
