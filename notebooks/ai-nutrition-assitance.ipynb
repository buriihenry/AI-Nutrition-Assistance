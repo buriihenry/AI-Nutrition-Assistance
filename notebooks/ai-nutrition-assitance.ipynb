{
 "cells": [
  {
   "cell_type": "code",
   "execution_count": 80,
   "id": "3b5607f3-4415-4564-981f-4626554cdcbc",
   "metadata": {
    "scrolled": true
   },
   "outputs": [],
   "source": [
    "import pandas as pd"
   ]
  },
  {
   "cell_type": "code",
   "execution_count": null,
   "id": "733e6103-6fad-4db4-939d-a5836b63b0f1",
   "metadata": {},
   "outputs": [],
   "source": [
    "##Ingestion"
   ]
  },
  {
   "cell_type": "code",
   "execution_count": null,
   "id": "5f68446c-d5c1-4cd9-8406-7b32308ff585",
   "metadata": {},
   "outputs": [],
   "source": [
    "df = pd.read_csv('data/data.csv')"
   ]
  },
  {
   "cell_type": "code",
   "execution_count": 82,
   "id": "2a6e4cb0-bf9c-423a-bc9b-7ac2e5181a51",
   "metadata": {},
   "outputs": [
    {
     "name": "stdout",
     "output_type": "stream",
     "text": [
      "CSV file saved successfully with 'ID' as the first column!\n"
     ]
    }
   ],
   "source": [
    "import pandas as pd\n",
    "\n",
    "# Step 1: Read the original CSV file\n",
    "df = pd.read_csv('data/data.csv')\n",
    "\n",
    "# Step 2: Convert column names to lowercase and replace spaces/special characters\n",
    "df.columns = (\n",
    "    df.columns.str.lower()\n",
    "    .str.replace(' ', '_')\n",
    "    .str.replace('(', '')\n",
    "    .str.replace(')', '')\n",
    "    .str.replace('$', '')\n",
    ")\n",
    "\n",
    "# Step 4: Replace NaN values with empty strings and convert the entire DataFrame to strings\n",
    "df = df.fillna('').astype(str)\n",
    "\n",
    "# Step 5: Add an \"ID\" column with sequential values starting from 1\n",
    "df['id'] = range(1, len(df) + 1)\n",
    "\n",
    "# Step 6: Reorder the columns to make \"ID\" the first column\n",
    "cols = ['id'] + [col for col in df.columns if col != 'id']\n",
    "df = df[cols]\n",
    "\n",
    "# Step 7: Save the modified DataFrame back to a new CSV file\n",
    "df.to_csv('data/data.csv', index=False)\n",
    "\n",
    "print(\"CSV file saved successfully with 'ID' as the first column!\")\n"
   ]
  },
  {
   "cell_type": "code",
   "execution_count": 79,
   "id": "038666b7-43d8-4cd6-8135-7ef10c754823",
   "metadata": {},
   "outputs": [
    {
     "data": {
      "text/plain": [
       "Index(['id', 'recipe_name', 'ingredients', 'nutritional_information',\n",
       "       'dietary_tags', 'meal_type', 'cuisine_type', 'instructions'],\n",
       "      dtype='object')"
      ]
     },
     "execution_count": 79,
     "metadata": {},
     "output_type": "execute_result"
    }
   ],
   "source": [
    "df.columns"
   ]
  },
  {
   "cell_type": "code",
   "execution_count": 63,
   "id": "6685ac5b-5331-4e13-aa02-b18bd088ce93",
   "metadata": {},
   "outputs": [
    {
     "name": "stderr",
     "output_type": "stream",
     "text": [
      "  % Total    % Received % Xferd  Average Speed   Time    Time     Time  Current\n",
      "                                 Dload  Upload   Total   Spent    Left  Speed\n",
      "\n",
      "  0     0    0     0    0     0      0      0 --:--:-- --:--:-- --:--:--     0\n",
      "100  3832  100  3832    0     0   6534      0 --:--:-- --:--:-- --:--:--  6550\n"
     ]
    }
   ],
   "source": [
    "!curl -O https://raw.githubusercontent.com/alexeygrigorev/minsearch/main/minsearch.py\n"
   ]
  },
  {
   "cell_type": "code",
   "execution_count": 64,
   "id": "c5fa99b9-0208-4a1d-9ed1-3460f8c31d86",
   "metadata": {},
   "outputs": [],
   "source": [
    "documents = df.to_dict(orient='records')"
   ]
  },
  {
   "cell_type": "code",
   "execution_count": 66,
   "id": "b5a0f86a-ee04-4239-9741-ec37edf868f5",
   "metadata": {},
   "outputs": [],
   "source": [
    "import minsearch"
   ]
  },
  {
   "cell_type": "code",
   "execution_count": 67,
   "id": "dc04c77f-6ebc-4291-ad19-7522034d4253",
   "metadata": {},
   "outputs": [],
   "source": [
    "index = minsearch.Index(\n",
    "    text_fields=['recipe_name', 'ingredients', 'nutritional_information',\n",
    "       'dietary_tags', 'meal_type', 'cuisine_type', 'instructions'],\n",
    "    keyword_fields=['id']\n",
    ")"
   ]
  },
  {
   "cell_type": "code",
   "execution_count": 68,
   "id": "4e862e10-07bd-48bf-a882-f59d36639e76",
   "metadata": {},
   "outputs": [],
   "source": [
    "# Convert all elements to strings\n",
    "documents = df.to_dict(orient='records')"
   ]
  },
  {
   "cell_type": "code",
   "execution_count": 69,
   "id": "8b3f87a1-3643-4a6a-a939-654292932882",
   "metadata": {},
   "outputs": [
    {
     "data": {
      "text/plain": [
       "<minsearch.Index at 0x23e2bc9fa10>"
      ]
     },
     "execution_count": 69,
     "metadata": {},
     "output_type": "execute_result"
    }
   ],
   "source": [
    "\n",
    "# Now fit the index\n",
    "index.fit(documents)\n"
   ]
  },
  {
   "cell_type": "code",
   "execution_count": 123,
   "id": "98b8d0c6-1802-4262-832c-9f4461411ece",
   "metadata": {},
   "outputs": [],
   "source": [
    "# RAG flow"
   ]
  },
  {
   "cell_type": "code",
   "execution_count": 70,
   "id": "69a2aab7-0f1e-46d7-aed7-c454f8130fa0",
   "metadata": {},
   "outputs": [],
   "source": [
    "query=\"give me the ingredients for Vegetarian Chili\" "
   ]
  },
  {
   "cell_type": "code",
   "execution_count": 71,
   "id": "91fe52cc-e4f9-4a56-a95d-163bb4ac2e2b",
   "metadata": {},
   "outputs": [],
   "source": [
    "import openai  "
   ]
  },
  {
   "cell_type": "code",
   "execution_count": 72,
   "id": "28ae85ba-865a-4c14-9cc4-e4a84e16a56d",
   "metadata": {},
   "outputs": [],
   "source": [
    "#import os\n",
    "\n",
    "#api_key = os.getenv('OPENAI_API_KEY')\n"
   ]
  },
  {
   "cell_type": "code",
   "execution_count": 73,
   "id": "073703b1-cdee-4fa5-96d9-66194225856e",
   "metadata": {},
   "outputs": [],
   "source": [
    "# API Configuration\n",
    "import openai\n",
    "\n",
    "openai.api_key = \"Your_Key\"\n"
   ]
  },
  {
   "cell_type": "code",
   "execution_count": 74,
   "id": "3bbabef4-533c-4db4-bac0-d3f783fb85cc",
   "metadata": {},
   "outputs": [],
   "source": [
    "def search(query):\n",
    "    boost = {}\n",
    "\n",
    "    results = index.search(\n",
    "        query=query,\n",
    "        filter_dict={},\n",
    "        boost_dict=boost,\n",
    "        num_results=10\n",
    "    )\n",
    "\n",
    "    return results"
   ]
  },
  {
   "cell_type": "code",
   "execution_count": 75,
   "id": "9c19c8e4-6d7d-40a0-bab8-be3b467c7abe",
   "metadata": {},
   "outputs": [],
   "source": [
    "\n",
    "prompt_template = \"\"\"\n",
    "You're a Nutrition insrtuctor. Answer the QUESTION based on the CONTEXT from our exercises database.\n",
    "Use only the facts from the CONTEXT when answering the QUESTION.\n",
    "\n",
    "QUESTION: {question}\n",
    "\n",
    "CONTEXT:\n",
    "{context}\n",
    "\"\"\".strip()\n",
    "\n",
    "entry_template = \"\"\"\n",
    "recipe_name:{recipe_name}         \n",
    "ingredients:{ingredients}\n",
    "nutritional_information:{nutritional_information}\n",
    "dietary_tags:{dietary_tags}         \n",
    "meal_type:{meal_type}        \n",
    "cuisine_type:{cuisine_type}          \n",
    "instructions:{instructions}  \n",
    "\"\"\".strip()\n",
    "\n",
    "def build_prompt(query, search_results):\n",
    "    context = \"\"\n",
    "    \n",
    "    for doc in search_results:\n",
    "        context = context + entry_template.format(**doc) + \"\\n\\n\"\n",
    "\n",
    "    prompt = prompt_template.format(question=query, context=context).strip()\n",
    "    return prompt\n",
    "\n",
    " "
   ]
  },
  {
   "cell_type": "code",
   "execution_count": 76,
   "id": "aecf1019-c292-43ef-9bbc-320925f7c703",
   "metadata": {},
   "outputs": [],
   "source": [
    "search_results=search(query)\n",
    "prompt = build_prompt(query, search_results)"
   ]
  },
  {
   "cell_type": "code",
   "execution_count": 77,
   "id": "01b79de0-ae2a-42f7-b3c4-6f6965bbc6cc",
   "metadata": {},
   "outputs": [
    {
     "name": "stdout",
     "output_type": "stream",
     "text": [
      "You're a Nutrition insrtuctor. Answer the QUESTION based on the CONTEXT from our exercises database.\n",
      "Use only the facts from the CONTEXT when answering the QUESTION.\n",
      "\n",
      "QUESTION: give me the ingredients for Vegetarian Chili\n",
      "\n",
      "CONTEXT:\n",
      "recipe_name:Vegetarian Chili         \n",
      "ingredients:Black beans, Corn, Bell peppers, Onion, Garlic, Cumin, Chili powder\n",
      "nutritional_information:calories: '320', proteins: '12g', fats: '8g', carbs: '45g'\n",
      "dietary_tags:vegan         \n",
      "meal_type:lunch        \n",
      "cuisine_type:Mexican          \n",
      "instructions:Sauté onions and garlic until fragrant, Add beans, corn, and bell peppers, Season with cumin and chili powder, Simmer for 20 minutes, Serve with rice or tortilla chips\n",
      "\n",
      "recipe_name:Vegetarian Samosas         \n",
      "ingredients:Potatoes, Peas, Onions, Cumin, Coriander, Pastry dough\n",
      "nutritional_information:calories: '300', proteins: '5g', fats: '15g', carbs: '40g'\n",
      "dietary_tags:vegetarian         \n",
      "meal_type:snack        \n",
      "cuisine_type:Indian          \n",
      "instructions:Boil and mash the potatoes, Mix with peas, onions, and spices, Fill the pastry dough with the potato mixture, Fry until golden brown\n",
      "\n",
      "recipe_name:Vegetarian Lasagna         \n",
      "ingredients:Lasagna noodles, Ricotta cheese, Spinach, Marinara sauce, Mozzarella cheese\n",
      "nutritional_information:calories: '400', proteins: '20g', fats: '15g', carbs: '50g'\n",
      "dietary_tags:vegetarian         \n",
      "meal_type:dinner        \n",
      "cuisine_type:Italian          \n",
      "instructions:Preheat oven to 180°C, Cook lasagna noodles according to package instructions, In a bowl, mix ricotta, spinach, and seasonings, Layer noodles, ricotta mixture, marinara, and mozzarella in a baking dish, Repeat layers, Bake for 30-35 minutes until bubbly\n",
      "\n",
      "recipe_name:Pumpkin Pie         \n",
      "ingredients:Pumpkin puree, Eggs, Cinnamon, Nutmeg, Pie crust\n",
      "nutritional_information:calories: '400', proteins: '8g', fats: '18g', carbs: '50g'\n",
      "dietary_tags:vegetarian         \n",
      "meal_type:dessert        \n",
      "cuisine_type:Mix pumpkin puree with eggs and spices, Pour the mixture into a pie crust, Bake at 180°C for 45 minutes until set          \n",
      "instructions:\n",
      "\n",
      "recipe_name:Chili         \n",
      "ingredients:Ground beef, Beans, Tomatoes, Chili powder\n",
      "nutritional_information:calories: '400', proteins: '25g', fats: '20g', carbs: '30g'\n",
      "dietary_tags:gluten-free         \n",
      "meal_type:dinner        \n",
      "cuisine_type:American          \n",
      "instructions:Brown beef, Add beans, tomatoes, and spices, Simmer for 30 minutes, Serve hot\n",
      "\n",
      "recipe_name:Spinach Artichoke Dip         \n",
      "ingredients:Spinach, Artichokes, Cream cheese, Parmesan, Garlic\n",
      "nutritional_information:calories: '350', proteins: '10g', fats: '25g', carbs: '30g'\n",
      "dietary_tags:vegetarian         \n",
      "meal_type:appetizer        \n",
      "cuisine_type:American          \n",
      "instructions:Mix ingredients, Bake at 180°C for 30 minutes, Serve with crackers\n",
      "\n",
      "recipe_name:Peach Smoothie         \n",
      "ingredients:Peaches, Yogurt, Milk, Honey\n",
      "nutritional_information:calories: '180', proteins: '6g', fats: '4g', carbs: '30g'\n",
      "dietary_tags:vegetarian         \n",
      "meal_type:breakfast        \n",
      "cuisine_type:American          \n",
      "instructions:Blend ingredients until smooth, Serve immediately\n",
      "\n",
      "recipe_name:Berry Smoothie         \n",
      "ingredients:Berries, Banana, Yogurt, Honey, Milk\n",
      "nutritional_information:calories: '200', proteins: '5g', fats: '5g', carbs: '40g'\n",
      "dietary_tags:vegetarian         \n",
      "meal_type:breakfast        \n",
      "cuisine_type:American          \n",
      "instructions:Blend ingredients until smooth, Serve immediately\n",
      "\n",
      "recipe_name:Carrot Cake         \n",
      "ingredients:Carrots, Flour, Sugar, Eggs, Cinnamon, Cream cheese frosting\n",
      "nutritional_information:calories: '350', proteins: '4g', fats: '15g', carbs: '50g'\n",
      "dietary_tags:vegetarian         \n",
      "meal_type:dessert        \n",
      "cuisine_type:American          \n",
      "instructions:Mix ingredients, Bake at 180°C for 30 minutes, Frost with cream cheese before serving\n",
      "\n",
      "recipe_name:Peanut Butter Cookies         \n",
      "ingredients:Peanut butter, Sugar, Egg, Vanilla extract\n",
      "nutritional_information:calories: '300', proteins: '10g', fats: '20g', carbs: '30g'\n",
      "dietary_tags:vegetarian         \n",
      "meal_type:dessert        \n",
      "cuisine_type:American          \n",
      "instructions:Mix ingredients, Roll into balls, Flatten and bake for 10 minutes, Let cool\n"
     ]
    }
   ],
   "source": [
    "print(prompt)"
   ]
  },
  {
   "cell_type": "code",
   "execution_count": 56,
   "id": "6f6184c9-6106-492f-b3c5-4a6ae8b9373f",
   "metadata": {},
   "outputs": [],
   "source": [
    "def llm(prompt, model='gpt-4o-mini'):\n",
    "    response = openai.ChatCompletion.create(\n",
    "        model=model,\n",
    "        messages=[{\"role\": \"user\", \"content\": prompt}]\n",
    "    )\n",
    "    \n",
    "    return response.choices[0].message.content"
   ]
  },
  {
   "cell_type": "code",
   "execution_count": 57,
   "id": "feea8b5f-6aaa-48a2-acb3-f7bf2ee1e7ca",
   "metadata": {},
   "outputs": [],
   "source": [
    "def rag(query, model='gpt-4o-mini'):\n",
    "    search_results = search(query)\n",
    "    prompt = build_prompt(query, search_results)\n",
    "    print(prompt)\n",
    "    answer = llm(prompt, model=model)\n",
    "    return answer"
   ]
  },
  {
   "cell_type": "code",
   "execution_count": 83,
   "id": "f032125e-a312-491a-8665-696a4f24240e",
   "metadata": {},
   "outputs": [
    {
     "name": "stdout",
     "output_type": "stream",
     "text": [
      "You're a Nutrition insrtuctor. Answer the QUESTION based on the CONTEXT from our exercises database.\n",
      "Use only the facts from the CONTEXT when answering the QUESTION.\n",
      "\n",
      "QUESTION: How many calories does the Vegetarian Chili contain?\n",
      "\n",
      "CONTEXT:\n",
      "recipe_name:Vegetarian Samosas         \n",
      "ingredients:Potatoes, Peas, Onions, Cumin, Coriander, Pastry dough\n",
      "nutritional_information:calories: '300', proteins: '5g', fats: '15g', carbs: '40g'\n",
      "dietary_tags:vegetarian         \n",
      "meal_type:snack        \n",
      "cuisine_type:Indian          \n",
      "instructions:Boil and mash the potatoes, Mix with peas, onions, and spices, Fill the pastry dough with the potato mixture, Fry until golden brown\n",
      "\n",
      "recipe_name:Vegetarian Chili         \n",
      "ingredients:Black beans, Corn, Bell peppers, Onion, Garlic, Cumin, Chili powder\n",
      "nutritional_information:calories: '320', proteins: '12g', fats: '8g', carbs: '45g'\n",
      "dietary_tags:vegan         \n",
      "meal_type:lunch        \n",
      "cuisine_type:Mexican          \n",
      "instructions:Sauté onions and garlic until fragrant, Add beans, corn, and bell peppers, Season with cumin and chili powder, Simmer for 20 minutes, Serve with rice or tortilla chips\n",
      "\n",
      "recipe_name:Vegetarian Lasagna         \n",
      "ingredients:Lasagna noodles, Ricotta cheese, Spinach, Marinara sauce, Mozzarella cheese\n",
      "nutritional_information:calories: '400', proteins: '20g', fats: '15g', carbs: '50g'\n",
      "dietary_tags:vegetarian         \n",
      "meal_type:dinner        \n",
      "cuisine_type:Italian          \n",
      "instructions:Preheat oven to 180°C, Cook lasagna noodles according to package instructions, In a bowl, mix ricotta, spinach, and seasonings, Layer noodles, ricotta mixture, marinara, and mozzarella in a baking dish, Repeat layers, Bake for 30-35 minutes until bubbly\n",
      "\n",
      "recipe_name:Chili         \n",
      "ingredients:Ground beef, Beans, Tomatoes, Chili powder\n",
      "nutritional_information:calories: '400', proteins: '25g', fats: '20g', carbs: '30g'\n",
      "dietary_tags:gluten-free         \n",
      "meal_type:dinner        \n",
      "cuisine_type:American          \n",
      "instructions:Brown beef, Add beans, tomatoes, and spices, Simmer for 30 minutes, Serve hot\n",
      "\n",
      "recipe_name:Pumpkin Pie         \n",
      "ingredients:Pumpkin puree, Eggs, Cinnamon, Nutmeg, Pie crust\n",
      "nutritional_information:calories: '400', proteins: '8g', fats: '18g', carbs: '50g'\n",
      "dietary_tags:vegetarian         \n",
      "meal_type:dessert        \n",
      "cuisine_type:Mix pumpkin puree with eggs and spices, Pour the mixture into a pie crust, Bake at 180°C for 45 minutes until set          \n",
      "instructions:\n",
      "\n",
      "recipe_name:Stuffed Mushrooms         \n",
      "ingredients:Mushrooms, Cream cheese, Parmesan cheese, Garlic, Herbs\n",
      "nutritional_information:calories: '150', proteins: '6g', fats: '10g', carbs: '5g'\n",
      "dietary_tags:vegetarian         \n",
      "meal_type:snack        \n",
      "cuisine_type:Italian          \n",
      "instructions:Remove the stems from the mushrooms, Mix cream cheese, Parmesan cheese, and garlic, Stuff the mushrooms with the cheese mixture, Bake at 180°C for 15 minutes\n",
      "\n",
      "recipe_name:Avocado Toast         \n",
      "ingredients:Avocado, Whole grain bread, Olive oil, Sea salt, Lemon juice\n",
      "nutritional_information:calories: '200', proteins: '5g', fats: '15g', carbs: '20g'\n",
      "dietary_tags:vegetarian         \n",
      "meal_type:breakfast        \n",
      "cuisine_type:Mediterranean          \n",
      "instructions:Toast the bread until crispy, Mash the avocado with lemon juice and sea salt, Spread the avocado on toast, Drizzle with olive oil\n",
      "\n",
      "recipe_name:Eggplant Parmesan         \n",
      "ingredients:Eggplant, Tomato sauce, Mozzarella cheese, Basil, Olive oil\n",
      "nutritional_information:calories: '400', proteins: '20g', fats: '25g', carbs: '35g'\n",
      "dietary_tags:vegetarian         \n",
      "meal_type:dinner        \n",
      "cuisine_type:Italian          \n",
      "instructions:Slice the eggplant and season with salt, Fry the eggplant slices in olive oil, Layer the eggplant with tomato sauce and mozzarella cheese, Bake for 20 minutes at 180°C\n",
      "\n",
      "recipe_name:Roasted Beet Salad         \n",
      "ingredients:Beets, Arugula, Goat cheese, Walnuts, Balsamic vinaigrette\n",
      "nutritional_information:calories: '300', proteins: '10g', fats: '15g', carbs: '35g'\n",
      "dietary_tags:vegetarian         \n",
      "meal_type:lunch        \n",
      "cuisine_type:Mediterranean          \n",
      "instructions:Roast beets in the oven for 30 minutes, Slice the beets and toss with arugula, Top with goat cheese and walnuts, Drizzle with balsamic vinaigrette\n",
      "\n",
      "recipe_name:Stuffed Bell Peppers         \n",
      "ingredients:Bell peppers, Quinoa, Black beans, Corn, Cheese, Salsa\n",
      "nutritional_information:calories: '450', proteins: '20g', fats: '15g', carbs: '60g'\n",
      "dietary_tags:vegetarian         \n",
      "meal_type:lunch        \n",
      "cuisine_type:Mexican          \n",
      "instructions:Cook quinoa and mix with black beans, corn, and cheese, Stuff the bell peppers with the quinoa mixture, Bake at 180°C for 20 minutes, Serve with salsa on top\n",
      "The Vegetarian Chili contains 320 calories.\n"
     ]
    }
   ],
   "source": [
    "question = 'How many calories does the Vegetarian Chili contain?'\n",
    "answer = rag(question)\n",
    "print(answer)"
   ]
  },
  {
   "cell_type": "code",
   "execution_count": 84,
   "id": "d2164241-4b80-428e-9bd3-adcf62221a21",
   "metadata": {},
   "outputs": [],
   "source": [
    "df_question = pd.read_csv('data/ground-truth-retrieval.csv')"
   ]
  },
  {
   "cell_type": "code",
   "execution_count": 85,
   "id": "ddb8a696-3a99-4746-92ad-446a01aae732",
   "metadata": {},
   "outputs": [
    {
     "data": {
      "text/html": [
       "<div>\n",
       "<style scoped>\n",
       "    .dataframe tbody tr th:only-of-type {\n",
       "        vertical-align: middle;\n",
       "    }\n",
       "\n",
       "    .dataframe tbody tr th {\n",
       "        vertical-align: top;\n",
       "    }\n",
       "\n",
       "    .dataframe thead th {\n",
       "        text-align: right;\n",
       "    }\n",
       "</style>\n",
       "<table border=\"1\" class=\"dataframe\">\n",
       "  <thead>\n",
       "    <tr style=\"text-align: right;\">\n",
       "      <th></th>\n",
       "      <th>id</th>\n",
       "      <th>question</th>\n",
       "    </tr>\n",
       "  </thead>\n",
       "  <tbody>\n",
       "    <tr>\n",
       "      <th>0</th>\n",
       "      <td>1</td>\n",
       "      <td>Is the Vegetarian Chili recipe suitable for a ...</td>\n",
       "    </tr>\n",
       "    <tr>\n",
       "      <th>1</th>\n",
       "      <td>1</td>\n",
       "      <td>What are the main ingredients used in the Vege...</td>\n",
       "    </tr>\n",
       "    <tr>\n",
       "      <th>2</th>\n",
       "      <td>1</td>\n",
       "      <td>How many calories does the Vegetarian Chili co...</td>\n",
       "    </tr>\n",
       "    <tr>\n",
       "      <th>3</th>\n",
       "      <td>1</td>\n",
       "      <td>Can I add anything else to the Vegetarian Chil...</td>\n",
       "    </tr>\n",
       "    <tr>\n",
       "      <th>4</th>\n",
       "      <td>1</td>\n",
       "      <td>What is the recommended meal type for the Vege...</td>\n",
       "    </tr>\n",
       "  </tbody>\n",
       "</table>\n",
       "</div>"
      ],
      "text/plain": [
       "   id                                           question\n",
       "0   1  Is the Vegetarian Chili recipe suitable for a ...\n",
       "1   1  What are the main ingredients used in the Vege...\n",
       "2   1  How many calories does the Vegetarian Chili co...\n",
       "3   1  Can I add anything else to the Vegetarian Chil...\n",
       "4   1  What is the recommended meal type for the Vege..."
      ]
     },
     "execution_count": 85,
     "metadata": {},
     "output_type": "execute_result"
    }
   ],
   "source": [
    "df_question.head()"
   ]
  },
  {
   "cell_type": "code",
   "execution_count": 86,
   "id": "a3fc621c-4c6e-401d-bc84-2095e528fca4",
   "metadata": {},
   "outputs": [],
   "source": [
    "ground_truth = df_question.to_dict(orient='records')"
   ]
  },
  {
   "cell_type": "code",
   "execution_count": 87,
   "id": "3db39e8d-5cbd-4f2b-a4ce-3fce5906771d",
   "metadata": {},
   "outputs": [
    {
     "data": {
      "text/plain": [
       "{'id': 1,\n",
       " 'question': 'Is the Vegetarian Chili recipe suitable for a vegan diet?'}"
      ]
     },
     "execution_count": 87,
     "metadata": {},
     "output_type": "execute_result"
    }
   ],
   "source": [
    "ground_truth[0]"
   ]
  },
  {
   "cell_type": "code",
   "execution_count": 88,
   "id": "87bddd43-ec7c-4d26-8d41-d7d08e19776e",
   "metadata": {},
   "outputs": [],
   "source": [
    "def hit_rate(relevance_total):\n",
    "    cnt = 0\n",
    "\n",
    "    for line in relevance_total:\n",
    "        if True in line:\n",
    "            cnt = cnt + 1\n",
    "\n",
    "    return cnt / len(relevance_total)\n",
    "\n",
    "def mrr(relevance_total):\n",
    "    total_score = 0.0\n",
    "\n",
    "    for line in relevance_total:\n",
    "        for rank in range(len(line)):\n",
    "            if line[rank] == True:\n",
    "                total_score = total_score + 1 / (rank + 1)\n",
    "\n",
    "    return total_score / len(relevance_total)"
   ]
  },
  {
   "cell_type": "code",
   "execution_count": 89,
   "id": "7385ce16-0867-42c0-a0f8-10a980c84eed",
   "metadata": {},
   "outputs": [],
   "source": [
    "def minsearch_search(query):\n",
    "    boost = {}\n",
    "\n",
    "    results = index.search(\n",
    "        query=query,\n",
    "        filter_dict={},\n",
    "        boost_dict=boost,\n",
    "        num_results=10\n",
    "    )\n",
    "\n",
    "    return results"
   ]
  },
  {
   "cell_type": "code",
   "execution_count": 90,
   "id": "002bd324-8bbf-48ae-a5cf-4a62fcff1a00",
   "metadata": {},
   "outputs": [],
   "source": [
    "def evaluate(ground_truth, search_function):\n",
    "    relevance_total = []\n",
    "\n",
    "    for q in tqdm(ground_truth):\n",
    "        doc_id = q['id']\n",
    "        results = search_function(q)\n",
    "        relevance = [d['id'] == doc_id for d in results]\n",
    "        relevance_total.append(relevance)\n",
    "\n",
    "    return {\n",
    "        'hit_rate': hit_rate(relevance_total),\n",
    "        'mrr': mrr(relevance_total),\n",
    "    }"
   ]
  },
  {
   "cell_type": "code",
   "execution_count": 91,
   "id": "c1fa4eed-d368-4480-a2fd-7caed5cecaa9",
   "metadata": {},
   "outputs": [],
   "source": [
    "from tqdm.auto import tqdm"
   ]
  },
  {
   "cell_type": "code",
   "execution_count": 92,
   "id": "cb66362c-c735-4539-9b1c-a741fe822082",
   "metadata": {},
   "outputs": [
    {
     "data": {
      "application/vnd.jupyter.widget-view+json": {
       "model_id": "811cb700f0c54552ad8745b5688f2b62",
       "version_major": 2,
       "version_minor": 0
      },
      "text/plain": [
       "  0%|          | 0/850 [00:00<?, ?it/s]"
      ]
     },
     "metadata": {},
     "output_type": "display_data"
    },
    {
     "data": {
      "text/plain": [
       "{'hit_rate': 0.9776470588235294, 'mrr': 0.9187591036414569}"
      ]
     },
     "execution_count": 92,
     "metadata": {},
     "output_type": "execute_result"
    }
   ],
   "source": [
    "\n",
    "evaluate(ground_truth, lambda q: minsearch_search(q['question']))"
   ]
  },
  {
   "cell_type": "code",
   "execution_count": 93,
   "id": "d5ebdb06-8990-4cd5-b07e-3e5baef727f3",
   "metadata": {},
   "outputs": [],
   "source": [
    "df_validation = df_question[:100]\n",
    "df_test = df_question[100:]"
   ]
  },
  {
   "cell_type": "markdown",
   "id": "c31b3626-c124-49f6-a827-75d62e78eb7e",
   "metadata": {},
   "source": [
    "Tuning and Finding the best parameters"
   ]
  },
  {
   "cell_type": "code",
   "execution_count": 95,
   "id": "71d7ae3f-56db-47ed-8c01-ae1771a35195",
   "metadata": {},
   "outputs": [],
   "source": [
    "import random\n",
    "\n",
    "def simple_optimize(param_ranges, objective_function, n_iterations=10):\n",
    "    best_params = None\n",
    "    best_score = float('-inf')  # Assuming we're minimizing. Use float('-inf') if maximizing.\n",
    "\n",
    "    for _ in range(n_iterations):\n",
    "        # Generate random parameters\n",
    "        current_params = {}\n",
    "        for param, (min_val, max_val) in param_ranges.items():\n",
    "            if isinstance(min_val, int) and isinstance(max_val, int):\n",
    "                current_params[param] = random.randint(min_val, max_val)\n",
    "            else:\n",
    "                current_params[param] = random.uniform(min_val, max_val)\n",
    "        \n",
    "        # Evaluate the objective function\n",
    "        current_score = objective_function(current_params)\n",
    "        \n",
    "        # Update best if current is better\n",
    "        if current_score > best_score:  # Change to > if maximizing\n",
    "            best_score = current_score\n",
    "            best_params = current_params\n",
    "    \n",
    "    return best_params, best_score"
   ]
  },
  {
   "cell_type": "code",
   "execution_count": 96,
   "id": "8fc88732-b200-4622-82d9-b6d220a1742a",
   "metadata": {},
   "outputs": [],
   "source": [
    "gt_val = df_validation.to_dict(orient='records')"
   ]
  },
  {
   "cell_type": "code",
   "execution_count": 97,
   "id": "ab2371bc-0c19-4c8e-83fc-238f0eb355a5",
   "metadata": {},
   "outputs": [],
   "source": [
    "def minsearch_search(query, boost=None):\n",
    "    if boost is None:\n",
    "        boost = {}\n",
    "\n",
    "    results = index.search(\n",
    "        query=query,\n",
    "        filter_dict={},\n",
    "        boost_dict=boost,\n",
    "        num_results=10\n",
    "    )\n",
    "\n",
    "    return results"
   ]
  },
  {
   "cell_type": "code",
   "execution_count": 98,
   "id": "12f04783-6622-4da6-834c-60ff92954c04",
   "metadata": {},
   "outputs": [],
   "source": [
    "param_ranges = {\n",
    "    'recipe_name': (0.0, 3.0),\n",
    "    'ingredients': (0.0, 3.0),\n",
    "    'nutritional_information': (0.0, 3.0),\n",
    "    'dietary_tags': (0.0, 3.0),\n",
    "    'meal_type': (0.0, 3.0),\n",
    "    'cuisine_type': (0.0, 3.0),\n",
    "    'instructions': (0.0, 3.0),\n",
    "}\n",
    "\n",
    "def objective(boost_params):\n",
    "    def search_function(q):\n",
    "        return minsearch_search(q['question'], boost_params)\n",
    "\n",
    "    results = evaluate(gt_val, search_function)\n",
    "    return results['mrr']"
   ]
  },
  {
   "cell_type": "code",
   "execution_count": null,
   "id": "fd6ffb09-b4cd-4f8a-836c-a32963b327e3",
   "metadata": {
    "scrolled": true
   },
   "outputs": [],
   "source": [
    "simple_optimize(param_ranges, objective, n_iterations=20)"
   ]
  },
  {
   "cell_type": "code",
   "execution_count": 102,
   "id": "2a882b2a-ac4d-4148-8e23-074fcea6d1ae",
   "metadata": {},
   "outputs": [
    {
     "data": {
      "application/vnd.jupyter.widget-view+json": {
       "model_id": "2a1fcdc6b4d54967a7f4a6de98ceeef6",
       "version_major": 2,
       "version_minor": 0
      },
      "text/plain": [
       "  0%|          | 0/850 [00:00<?, ?it/s]"
      ]
     },
     "metadata": {},
     "output_type": "display_data"
    },
    {
     "data": {
      "text/plain": [
       "{'hit_rate': 0.9776470588235294, 'mrr': 0.9541988795518207}"
      ]
     },
     "execution_count": 102,
     "metadata": {},
     "output_type": "execute_result"
    }
   ],
   "source": [
    "def minsearch_improved(query):\n",
    "    boost = {\n",
    "        'recipe_name': 2.46,\n",
    "        'ingredients': 0.01,\n",
    "        'nutritional_information': 1.35,\n",
    "        'dietary_tags': 0.72,\n",
    "        'meal_type': 1.16,\n",
    "        'cuisine_type': 1.26,\n",
    "        'instructions': 2.61    \n",
    "\n",
    "    }\n",
    "\n",
    "    results = index.search(\n",
    "        query=query,\n",
    "        filter_dict={},\n",
    "        boost_dict=boost,\n",
    "        num_results=10\n",
    "    )\n",
    "\n",
    "    return results\n",
    "\n",
    "evaluate(ground_truth, lambda q: minsearch_improved(q['question']))"
   ]
  },
  {
   "cell_type": "markdown",
   "id": "3dcf372a-b840-4c4e-9f2a-ddf53dc79a8b",
   "metadata": {},
   "source": [
    "RAG evaluation"
   ]
  },
  {
   "cell_type": "code",
   "execution_count": 103,
   "id": "17969782-2163-4b17-807e-e1e785274a80",
   "metadata": {},
   "outputs": [],
   "source": [
    "prompt2_template = \"\"\"\n",
    "You are an expert evaluator for a RAG system.\n",
    "Your task is to analyze the relevance of the generated answer to the given question.\n",
    "Based on the relevance of the generated answer, you will classify it\n",
    "as \"NON_RELEVANT\", \"PARTLY_RELEVANT\", or \"RELEVANT\".\n",
    "\n",
    "Here is the data for evaluation:\n",
    "\n",
    "Question: {question}\n",
    "Generated Answer: {answer_llm}\n",
    "\n",
    "Please analyze the content and context of the generated answer in relation to the question\n",
    "and provide your evaluation in parsable JSON without using code blocks:\n",
    "\n",
    "{{\n",
    "  \"Relevance\": \"NON_RELEVANT\" | \"PARTLY_RELEVANT\" | \"RELEVANT\",\n",
    "  \"Explanation\": \"[Provide a brief explanation for your evaluation]\"\n",
    "}}\n",
    "\"\"\".strip()"
   ]
  },
  {
   "cell_type": "code",
   "execution_count": 104,
   "id": "715496e9-4514-4331-97f1-0dee19967dc0",
   "metadata": {},
   "outputs": [
    {
     "data": {
      "text/plain": [
       "850"
      ]
     },
     "execution_count": 104,
     "metadata": {},
     "output_type": "execute_result"
    }
   ],
   "source": [
    "len(ground_truth)"
   ]
  },
  {
   "cell_type": "code",
   "execution_count": 107,
   "id": "c178a4e7-278c-4270-8518-8a9f216fa297",
   "metadata": {},
   "outputs": [
    {
     "name": "stdout",
     "output_type": "stream",
     "text": [
      "You're a Nutrition insrtuctor. Answer the QUESTION based on the CONTEXT from our exercises database.\n",
      "Use only the facts from the CONTEXT when answering the QUESTION.\n",
      "\n",
      "QUESTION: Is the Vegetarian Chili recipe suitable for a vegan diet?\n",
      "\n",
      "CONTEXT:\n",
      "recipe_name:Vegetarian Chili         \n",
      "ingredients:Black beans, Corn, Bell peppers, Onion, Garlic, Cumin, Chili powder\n",
      "nutritional_information:calories: '320', proteins: '12g', fats: '8g', carbs: '45g'\n",
      "dietary_tags:vegan         \n",
      "meal_type:lunch        \n",
      "cuisine_type:Mexican          \n",
      "instructions:Sauté onions and garlic until fragrant, Add beans, corn, and bell peppers, Season with cumin and chili powder, Simmer for 20 minutes, Serve with rice or tortilla chips\n",
      "\n",
      "recipe_name:Vegetarian Samosas         \n",
      "ingredients:Potatoes, Peas, Onions, Cumin, Coriander, Pastry dough\n",
      "nutritional_information:calories: '300', proteins: '5g', fats: '15g', carbs: '40g'\n",
      "dietary_tags:vegetarian         \n",
      "meal_type:snack        \n",
      "cuisine_type:Indian          \n",
      "instructions:Boil and mash the potatoes, Mix with peas, onions, and spices, Fill the pastry dough with the potato mixture, Fry until golden brown\n",
      "\n",
      "recipe_name:Vegan Pancakes         \n",
      "ingredients:Gluten-free flour, Almond milk, Baking powder, Maple syrup\n",
      "nutritional_information:calories: '300', proteins: '8g', fats: '10g', carbs: '50g'\n",
      "dietary_tags:vegan         \n",
      "meal_type:breakfast        \n",
      "cuisine_type:American          \n",
      "instructions:Mix the dry ingredients in a bowl, Slowly add almond milk while stirring, Cook on a griddle for 2-3 minutes per side, Serve with maple syrup\n",
      "\n",
      "recipe_name:Chili         \n",
      "ingredients:Ground beef, Beans, Tomatoes, Chili powder\n",
      "nutritional_information:calories: '400', proteins: '25g', fats: '20g', carbs: '30g'\n",
      "dietary_tags:gluten-free         \n",
      "meal_type:dinner        \n",
      "cuisine_type:American          \n",
      "instructions:Brown beef, Add beans, tomatoes, and spices, Simmer for 30 minutes, Serve hot\n",
      "\n",
      "recipe_name:Vegan Burger         \n",
      "ingredients:Black beans, Quinoa, Breadcrumbs, Garlic, Onion, Spices\n",
      "nutritional_information:calories: '400', proteins: '15g', fats: '10g', carbs: '60g'\n",
      "dietary_tags:vegan         \n",
      "meal_type:lunch        \n",
      "cuisine_type:American          \n",
      "instructions:Mash black beans and mix with cooked quinoa, garlic, and onions, Form the mixture into patties and pan-fry, Serve on a bun with toppings of choice\n",
      "\n",
      "recipe_name:Vegetarian Lasagna         \n",
      "ingredients:Lasagna noodles, Ricotta cheese, Spinach, Marinara sauce, Mozzarella cheese\n",
      "nutritional_information:calories: '400', proteins: '20g', fats: '15g', carbs: '50g'\n",
      "dietary_tags:vegetarian         \n",
      "meal_type:dinner        \n",
      "cuisine_type:Italian          \n",
      "instructions:Preheat oven to 180°C, Cook lasagna noodles according to package instructions, In a bowl, mix ricotta, spinach, and seasonings, Layer noodles, ricotta mixture, marinara, and mozzarella in a baking dish, Repeat layers, Bake for 30-35 minutes until bubbly\n",
      "\n",
      "recipe_name:Vegetarian Sushi         \n",
      "ingredients:Sushi rice, Nori sheets, Avocado, Cucumber, Carrots\n",
      "nutritional_information:calories: '250', proteins: '5g', fats: '10g', carbs: '40g'\n",
      "dietary_tags:vegan         \n",
      "meal_type:lunch        \n",
      "cuisine_type:Japanese          \n",
      "instructions:Cook sushi rice according to package instructions, Slice vegetables into thin strips, Place nori sheet on a bamboo mat, Spread rice on nori, Arrange vegetables, Roll tightly and slice into pieces, Serve with soy sauce\n",
      "\n",
      "recipe_name:Vegan Burrito Bowl         \n",
      "ingredients:Brown rice, Black beans, Corn, Avocado, Salsa, Lettuce\n",
      "nutritional_information:calories: '400', proteins: '12g', fats: '15g', carbs: '60g'\n",
      "dietary_tags:vegan         \n",
      "meal_type:lunch        \n",
      "cuisine_type:Mexican          \n",
      "instructions:Cook rice and black beans, Layer rice with beans, corn, avocado, and salsa in a bowl, Top with lettuce and serve\n",
      "\n",
      "recipe_name:Pumpkin Pie         \n",
      "ingredients:Pumpkin puree, Eggs, Cinnamon, Nutmeg, Pie crust\n",
      "nutritional_information:calories: '400', proteins: '8g', fats: '18g', carbs: '50g'\n",
      "dietary_tags:vegetarian         \n",
      "meal_type:dessert        \n",
      "cuisine_type:Mix pumpkin puree with eggs and spices, Pour the mixture into a pie crust, Bake at 180°C for 45 minutes until set          \n",
      "instructions:\n",
      "\n",
      "recipe_name:Vegetarian Sushi Rolls         \n",
      "ingredients:Sushi rice, Nori, Avocado, Cucumber, Carrots, Soy sauce\n",
      "nutritional_information:calories: '300', proteins: '6g', fats: '8g', carbs: '50g'\n",
      "dietary_tags:vegan         \n",
      "meal_type:snack        \n",
      "cuisine_type:Japanese          \n",
      "instructions:Cook sushi rice and let cool, Place rice on nori and add vegetables, Roll tightly and slice, Serve with soy sauce\n"
     ]
    }
   ],
   "source": [
    "record = ground_truth[0]\n",
    "question = record['question']\n",
    "answer_llm = rag(question)"
   ]
  },
  {
   "cell_type": "code",
   "execution_count": 108,
   "id": "a11661e4-7d5d-4da3-9424-a2fc05d7f26a",
   "metadata": {},
   "outputs": [
    {
     "name": "stdout",
     "output_type": "stream",
     "text": [
      "Yes, the Vegetarian Chili recipe is suitable for a vegan diet as indicated by its dietary tags.\n"
     ]
    }
   ],
   "source": [
    "print(answer_llm)"
   ]
  },
  {
   "cell_type": "code",
   "execution_count": 109,
   "id": "a0804072-1e67-4f5e-bbd1-e1ec02e19ca7",
   "metadata": {},
   "outputs": [
    {
     "name": "stdout",
     "output_type": "stream",
     "text": [
      "You are an expert evaluator for a RAG system.\n",
      "Your task is to analyze the relevance of the generated answer to the given question.\n",
      "Based on the relevance of the generated answer, you will classify it\n",
      "as \"NON_RELEVANT\", \"PARTLY_RELEVANT\", or \"RELEVANT\".\n",
      "\n",
      "Here is the data for evaluation:\n",
      "\n",
      "Question: Is the Vegetarian Chili recipe suitable for a vegan diet?\n",
      "Generated Answer: Yes, the Vegetarian Chili recipe is suitable for a vegan diet as indicated by its dietary tags.\n",
      "\n",
      "Please analyze the content and context of the generated answer in relation to the question\n",
      "and provide your evaluation in parsable JSON without using code blocks:\n",
      "\n",
      "{\n",
      "  \"Relevance\": \"NON_RELEVANT\" | \"PARTLY_RELEVANT\" | \"RELEVANT\",\n",
      "  \"Explanation\": \"[Provide a brief explanation for your evaluation]\"\n",
      "}\n"
     ]
    }
   ],
   "source": [
    "prompt = prompt2_template.format(question=question, answer_llm=answer_llm)\n",
    "print(prompt)\n"
   ]
  },
  {
   "cell_type": "code",
   "execution_count": 110,
   "id": "9f80f04a-a166-4a7e-b6e9-7834533525dd",
   "metadata": {},
   "outputs": [],
   "source": [
    "import json"
   ]
  },
  {
   "cell_type": "code",
   "execution_count": 111,
   "id": "b67b07f7-2c7d-43d0-9390-98172b4213aa",
   "metadata": {},
   "outputs": [],
   "source": [
    "df_sample = df_question.sample(n=200, random_state=1)"
   ]
  },
  {
   "cell_type": "code",
   "execution_count": 112,
   "id": "a0331b2c-05ee-464f-b342-8ffbbc0cdc87",
   "metadata": {},
   "outputs": [],
   "source": [
    "sample = df_sample.to_dict(orient='records')"
   ]
  },
  {
   "cell_type": "code",
   "execution_count": null,
   "id": "70d36e1f-109f-4a5a-a96c-01ecffa23233",
   "metadata": {},
   "outputs": [],
   "source": [
    "evaluations = []\n",
    "\n",
    "for record in tqdm(sample):\n",
    "    question = record['question']\n",
    "    answer_llm = rag(question) \n",
    "\n",
    "    prompt = prompt2_template.format(\n",
    "        question=question,\n",
    "        answer_llm=answer_llm\n",
    "    )\n",
    "\n",
    "    evaluation = llm(prompt)\n",
    "    evaluation = json.loads(evaluation)\n",
    "\n",
    "    evaluations.append((record, answer_llm, evaluation))"
   ]
  },
  {
   "cell_type": "code",
   "execution_count": 116,
   "id": "a1752a95-8884-4c9a-94a0-ce328166efdd",
   "metadata": {},
   "outputs": [],
   "source": [
    "df_eval = pd.DataFrame(evaluations, columns=['record', 'answer', 'evaluation'])\n",
    "\n",
    "df_eval['id'] = df_eval.record.apply(lambda d: d['id'])\n",
    "df_eval['question'] = df_eval.record.apply(lambda d: d['question'])"
   ]
  },
  {
   "cell_type": "code",
   "execution_count": 117,
   "id": "be22f7ff-c588-4bff-99e0-ec1d3edebc8c",
   "metadata": {},
   "outputs": [],
   "source": [
    "df_eval['relevance'] = df_eval.evaluation.apply(lambda d: d['Relevance'])\n",
    "df_eval['explanation'] = df_eval.evaluation.apply(lambda d: d['Explanation'])"
   ]
  },
  {
   "cell_type": "code",
   "execution_count": 118,
   "id": "fffdfc6f-d2b0-4289-91bd-ecc05b6bbcd8",
   "metadata": {},
   "outputs": [],
   "source": [
    "del df_eval['record']\n",
    "del df_eval['evaluation']"
   ]
  },
  {
   "cell_type": "code",
   "execution_count": 119,
   "id": "23d4bb5c-732c-47ad-ad3f-438d7ec670b9",
   "metadata": {},
   "outputs": [
    {
     "data": {
      "text/plain": [
       "relevance\n",
       "RELEVANT           0.95\n",
       "PARTLY_RELEVANT    0.05\n",
       "Name: proportion, dtype: float64"
      ]
     },
     "execution_count": 119,
     "metadata": {},
     "output_type": "execute_result"
    }
   ],
   "source": [
    "df_eval.relevance.value_counts(normalize=True)"
   ]
  },
  {
   "cell_type": "code",
   "execution_count": 120,
   "id": "c6cf71dd-abfb-49dd-a79a-8addd23d606c",
   "metadata": {},
   "outputs": [],
   "source": [
    "df_eval.to_csv('data/rag-eval-gpt-4o-mini.csv', index=False)"
   ]
  },
  {
   "cell_type": "code",
   "execution_count": 122,
   "id": "16d74979-7599-4d19-a9c5-5525167c72fe",
   "metadata": {},
   "outputs": [
    {
     "data": {
      "text/html": [
       "<div>\n",
       "<style scoped>\n",
       "    .dataframe tbody tr th:only-of-type {\n",
       "        vertical-align: middle;\n",
       "    }\n",
       "\n",
       "    .dataframe tbody tr th {\n",
       "        vertical-align: top;\n",
       "    }\n",
       "\n",
       "    .dataframe thead th {\n",
       "        text-align: right;\n",
       "    }\n",
       "</style>\n",
       "<table border=\"1\" class=\"dataframe\">\n",
       "  <thead>\n",
       "    <tr style=\"text-align: right;\">\n",
       "      <th></th>\n",
       "      <th>answer</th>\n",
       "      <th>id</th>\n",
       "      <th>question</th>\n",
       "      <th>relevance</th>\n",
       "      <th>explanation</th>\n",
       "    </tr>\n",
       "  </thead>\n",
       "  <tbody>\n",
       "    <tr>\n",
       "      <th>37</th>\n",
       "      <td>The types of meat used in the Stuffed Zucchini...</td>\n",
       "      <td>157</td>\n",
       "      <td>What types of meat are used in the Stuffed Zuc...</td>\n",
       "      <td>PARTLY_RELEVANT</td>\n",
       "      <td>The generated answer mentions one type of meat...</td>\n",
       "    </tr>\n",
       "    <tr>\n",
       "      <th>74</th>\n",
       "      <td>The type of fish used in this recipe is white ...</td>\n",
       "      <td>49</td>\n",
       "      <td>What type of fish is used in this recipe?</td>\n",
       "      <td>PARTLY_RELEVANT</td>\n",
       "      <td>The generated answer specifies that white fish...</td>\n",
       "    </tr>\n",
       "    <tr>\n",
       "      <th>75</th>\n",
       "      <td>Yes, the South African Bobotie is safe for som...</td>\n",
       "      <td>14</td>\n",
       "      <td>Is the South African Bobotie safe for someone ...</td>\n",
       "      <td>PARTLY_RELEVANT</td>\n",
       "      <td>The generated answer claims that Bobotie is gl...</td>\n",
       "    </tr>\n",
       "    <tr>\n",
       "      <th>86</th>\n",
       "      <td>The Spicy Tuna Sushi contains 10 grams of fats...</td>\n",
       "      <td>109</td>\n",
       "      <td>What type of fats are present in the Spicy Tun...</td>\n",
       "      <td>PARTLY_RELEVANT</td>\n",
       "      <td>The generated answer mentions the total amount...</td>\n",
       "    </tr>\n",
       "    <tr>\n",
       "      <th>98</th>\n",
       "      <td>To prepare Chapati and Beans, you need the fol...</td>\n",
       "      <td>18</td>\n",
       "      <td>What ingredients do I need to prepare Chapati ...</td>\n",
       "      <td>PARTLY_RELEVANT</td>\n",
       "      <td>The generated answer lists some ingredients ne...</td>\n",
       "    </tr>\n",
       "    <tr>\n",
       "      <th>104</th>\n",
       "      <td>The main ingredients in the gluten-free Spaghe...</td>\n",
       "      <td>23</td>\n",
       "      <td>What are the main ingredients in this gluten-f...</td>\n",
       "      <td>PARTLY_RELEVANT</td>\n",
       "      <td>The generated answer lists several ingredients...</td>\n",
       "    </tr>\n",
       "    <tr>\n",
       "      <th>111</th>\n",
       "      <td>The preparation time for the carrot cake with ...</td>\n",
       "      <td>140</td>\n",
       "      <td>What is the preparation time for the carrot ca...</td>\n",
       "      <td>PARTLY_RELEVANT</td>\n",
       "      <td>The generated answer addresses the question ab...</td>\n",
       "    </tr>\n",
       "    <tr>\n",
       "      <th>123</th>\n",
       "      <td>Yes, the Fruit Smoothie is suitable for a vega...</td>\n",
       "      <td>71</td>\n",
       "      <td>Is the Fruit Smoothie suitable for a vegan diet?</td>\n",
       "      <td>PARTLY_RELEVANT</td>\n",
       "      <td>The answer states that the Fruit Smoothie is s...</td>\n",
       "    </tr>\n",
       "    <tr>\n",
       "      <th>130</th>\n",
       "      <td>You need to bake the Chocolava Cake for 10 min...</td>\n",
       "      <td>99</td>\n",
       "      <td>How long do I need to bake the Chocolava Cake?</td>\n",
       "      <td>PARTLY_RELEVANT</td>\n",
       "      <td>The generated answer provides a specific bakin...</td>\n",
       "    </tr>\n",
       "    <tr>\n",
       "      <th>154</th>\n",
       "      <td>The recipe is categorized as a dessert.</td>\n",
       "      <td>140</td>\n",
       "      <td>What type of dessert is this recipe categorize...</td>\n",
       "      <td>PARTLY_RELEVANT</td>\n",
       "      <td>The generated answer confirms that the recipe ...</td>\n",
       "    </tr>\n",
       "  </tbody>\n",
       "</table>\n",
       "</div>"
      ],
      "text/plain": [
       "                                                answer   id  \\\n",
       "37   The types of meat used in the Stuffed Zucchini...  157   \n",
       "74   The type of fish used in this recipe is white ...   49   \n",
       "75   Yes, the South African Bobotie is safe for som...   14   \n",
       "86   The Spicy Tuna Sushi contains 10 grams of fats...  109   \n",
       "98   To prepare Chapati and Beans, you need the fol...   18   \n",
       "104  The main ingredients in the gluten-free Spaghe...   23   \n",
       "111  The preparation time for the carrot cake with ...  140   \n",
       "123  Yes, the Fruit Smoothie is suitable for a vega...   71   \n",
       "130  You need to bake the Chocolava Cake for 10 min...   99   \n",
       "154            The recipe is categorized as a dessert.  140   \n",
       "\n",
       "                                              question        relevance  \\\n",
       "37   What types of meat are used in the Stuffed Zuc...  PARTLY_RELEVANT   \n",
       "74           What type of fish is used in this recipe?  PARTLY_RELEVANT   \n",
       "75   Is the South African Bobotie safe for someone ...  PARTLY_RELEVANT   \n",
       "86   What type of fats are present in the Spicy Tun...  PARTLY_RELEVANT   \n",
       "98   What ingredients do I need to prepare Chapati ...  PARTLY_RELEVANT   \n",
       "104  What are the main ingredients in this gluten-f...  PARTLY_RELEVANT   \n",
       "111  What is the preparation time for the carrot ca...  PARTLY_RELEVANT   \n",
       "123   Is the Fruit Smoothie suitable for a vegan diet?  PARTLY_RELEVANT   \n",
       "130     How long do I need to bake the Chocolava Cake?  PARTLY_RELEVANT   \n",
       "154  What type of dessert is this recipe categorize...  PARTLY_RELEVANT   \n",
       "\n",
       "                                           explanation  \n",
       "37   The generated answer mentions one type of meat...  \n",
       "74   The generated answer specifies that white fish...  \n",
       "75   The generated answer claims that Bobotie is gl...  \n",
       "86   The generated answer mentions the total amount...  \n",
       "98   The generated answer lists some ingredients ne...  \n",
       "104  The generated answer lists several ingredients...  \n",
       "111  The generated answer addresses the question ab...  \n",
       "123  The answer states that the Fruit Smoothie is s...  \n",
       "130  The generated answer provides a specific bakin...  \n",
       "154  The generated answer confirms that the recipe ...  "
      ]
     },
     "execution_count": 122,
     "metadata": {},
     "output_type": "execute_result"
    }
   ],
   "source": [
    "df_eval[df_eval.relevance == 'PARTLY_RELEVANT']"
   ]
  },
  {
   "cell_type": "code",
   "execution_count": null,
   "id": "4a607d1f-0985-4d83-a7c2-47e9b9065c86",
   "metadata": {},
   "outputs": [],
   "source": []
  }
 ],
 "metadata": {
  "kernelspec": {
   "display_name": "Python 3 (ipykernel)",
   "language": "python",
   "name": "python3"
  },
  "language_info": {
   "codemirror_mode": {
    "name": "ipython",
    "version": 3
   },
   "file_extension": ".py",
   "mimetype": "text/x-python",
   "name": "python",
   "nbconvert_exporter": "python",
   "pygments_lexer": "ipython3",
   "version": "3.11.9"
  }
 },
 "nbformat": 4,
 "nbformat_minor": 5
}
