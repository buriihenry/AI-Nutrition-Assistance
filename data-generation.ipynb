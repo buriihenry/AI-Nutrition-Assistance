{
 "cells": [
  {
   "cell_type": "code",
   "execution_count": 38,
   "id": "97247433-54e3-4d22-a475-18b62b3a2af9",
   "metadata": {},
   "outputs": [],
   "source": [
    "import pandas as pd"
   ]
  },
  {
   "cell_type": "code",
   "execution_count": 39,
   "id": "8060264b-d529-4c20-8eab-1760f944b4a1",
   "metadata": {},
   "outputs": [],
   "source": [
    "df = pd.read_csv('data/data.csv')\n",
    "documents = df.to_dict(orient='records')"
   ]
  },
  {
   "cell_type": "code",
   "execution_count": 41,
   "id": "616720ec-57ed-4ae6-874c-c50769d4b368",
   "metadata": {},
   "outputs": [],
   "source": [
    "prompt_template = \"\"\"\n",
    "You emulate a user of our Nutrition assistant application.\n",
    "Formulate 5 questions this user might ask based on a provided dietary_tags.\n",
    "Make the questions specific to this diet.\n",
    "The record should contain the answer to the questions, and the questions should\n",
    "be complete and not too short. Use as fewer words as possible from the record. \n",
    "\n",
    "The record:\n",
    "recipe_name:{recipe_name}         \n",
    "ingredients:{ingredients}\n",
    "nutritional_information:{nutritional_information}\n",
    "dietary_tags:{dietary_tags}         \n",
    "meal_type:{meal_type}        \n",
    "cuisine_type:{cuisine_type}          \n",
    "instructions:{instructions}\n",
    "\n",
    "Provide the output in parsable JSON without using code blocks:\n",
    "\n",
    "{{\"questions\": [\"question1\", \"question2\", ..., \"question5\"]}}\n",
    "\"\"\".strip()"
   ]
  },
  {
   "cell_type": "code",
   "execution_count": 42,
   "id": "06e91563-c0dc-4b7f-b8b0-9bbb771f0d25",
   "metadata": {},
   "outputs": [],
   "source": [
    "# API Configuration\n",
    "import openai\n",
    "\n",
    "openai.api_key = \"Your_Key\"\n"
   ]
  },
  {
   "cell_type": "code",
   "execution_count": 43,
   "id": "767e58e4-ae7e-4bf0-b55b-97e418dd0699",
   "metadata": {},
   "outputs": [],
   "source": [
    "# Generate the Prompt for the First Record\n",
    "prompt = prompt_template.format(**documents[0])"
   ]
  },
  {
   "cell_type": "code",
   "execution_count": 44,
   "id": "2da0c9aa-1e99-405a-87f6-20c9c0f55125",
   "metadata": {},
   "outputs": [],
   "source": [
    "# Create the LLM Request Function\n",
    "def llm(prompt):\n",
    "    response = openai.ChatCompletion.create(\n",
    "        model='gpt-4o-mini',\n",
    "        messages=[{\"role\": \"user\", \"content\": prompt}]\n",
    "    )\n",
    "    \n",
    "    return response.choices[0].message.content\n",
    "\n"
   ]
  },
  {
   "cell_type": "code",
   "execution_count": 45,
   "id": "89d7e769-1098-4b4d-99d0-efd7ef9220c3",
   "metadata": {},
   "outputs": [],
   "source": [
    "# Step 6: Make the API Request and Get the Questions\n",
    "import requests\n",
    "import json\n",
    "questions = llm(prompt)"
   ]
  },
  {
   "cell_type": "code",
   "execution_count": 46,
   "id": "ca2ec955-bbaa-4936-b796-44c961b0196b",
   "metadata": {},
   "outputs": [
    {
     "data": {
      "text/plain": [
       "{'questions': ['What are the main ingredients in the Vegetarian Chili recipe?',\n",
       "  'How many calories does the Vegetarian Chili contain?',\n",
       "  'Is the Vegetarian Chili suitable for a vegan diet?',\n",
       "  'What is the preparation method for making the Vegetarian Chili?',\n",
       "  'What type of cuisine does the Vegetarian Chili belong to?']}"
      ]
     },
     "execution_count": 46,
     "metadata": {},
     "output_type": "execute_result"
    }
   ],
   "source": [
    "json.loads(questions)"
   ]
  },
  {
   "cell_type": "code",
   "execution_count": 47,
   "id": "a2f1c5e8-233c-4887-89af-34772adba406",
   "metadata": {},
   "outputs": [],
   "source": [
    "def generate_questions(doc):\n",
    "    prompt = prompt_template.format(**doc)\n",
    "\n",
    "    response = openai.ChatCompletion.create(\n",
    "        model='gpt-4o-mini',\n",
    "        messages=[{\"role\": \"user\", \"content\": prompt}]\n",
    "    )\n",
    "\n",
    "    json_response = response.choices[0].message.content\n",
    "    return json_response"
   ]
  },
  {
   "cell_type": "code",
   "execution_count": 48,
   "id": "721fee34-5a46-4229-b861-2620398675f4",
   "metadata": {},
   "outputs": [],
   "source": [
    "from tqdm.auto import tqdm"
   ]
  },
  {
   "cell_type": "code",
   "execution_count": 49,
   "id": "35743057-452b-434d-b4ba-1a9b08404c9b",
   "metadata": {},
   "outputs": [],
   "source": [
    "results = {}"
   ]
  },
  {
   "cell_type": "code",
   "execution_count": 50,
   "id": "89a33b4a-0e27-404d-8e89-bdd8e89ce9ed",
   "metadata": {},
   "outputs": [
    {
     "data": {
      "application/vnd.jupyter.widget-view+json": {
       "model_id": "6b1e5eb478684ebeaba038b09645b4fd",
       "version_major": 2,
       "version_minor": 0
      },
      "text/plain": [
       "  0%|          | 0/170 [00:00<?, ?it/s]"
      ]
     },
     "metadata": {},
     "output_type": "display_data"
    }
   ],
   "source": [
    "\n",
    "for doc in tqdm(documents): \n",
    "    doc_id = doc['id']\n",
    "    if doc_id in results:\n",
    "        continue\n",
    "\n",
    "    questions_raw = generate_questions(doc)\n",
    "    questions = json.loads(questions_raw)\n",
    "    results[doc_id] = questions['questions']"
   ]
  },
  {
   "cell_type": "code",
   "execution_count": 51,
   "id": "13ff6294-4d5e-40f5-9172-ac1669a58736",
   "metadata": {},
   "outputs": [],
   "source": [
    "final_results = []\n",
    "\n",
    "for doc_id, questions in results.items():\n",
    "    for q in questions:\n",
    "        final_results.append((doc_id, q))"
   ]
  },
  {
   "cell_type": "code",
   "execution_count": 52,
   "id": "8719b6bc-be70-445b-9e88-6e49e4881db8",
   "metadata": {},
   "outputs": [
    {
     "data": {
      "text/plain": [
       "(1, 'Is the Vegetarian Chili recipe suitable for a vegan diet?')"
      ]
     },
     "execution_count": 52,
     "metadata": {},
     "output_type": "execute_result"
    }
   ],
   "source": [
    "final_results[0]"
   ]
  },
  {
   "cell_type": "code",
   "execution_count": 53,
   "id": "e74f1bab-0b01-4004-8a29-999b685940ce",
   "metadata": {},
   "outputs": [],
   "source": [
    "\n",
    "df_results = pd.DataFrame(final_results, columns=['id', 'question'])"
   ]
  },
  {
   "cell_type": "code",
   "execution_count": 54,
   "id": "875ec987-f3be-49d6-bf44-743e3360c97f",
   "metadata": {},
   "outputs": [],
   "source": [
    "#Saving the Ground Truth Data to CSV\n",
    "df_results.to_csv('data/ground-truth-retrieval.csv', index=False)"
   ]
  },
  {
   "cell_type": "code",
   "execution_count": 55,
   "id": "bc99c94e-568d-4bde-b710-ebd7ff4f9f7e",
   "metadata": {},
   "outputs": [
    {
     "name": "stdout",
     "output_type": "stream",
     "text": [
      "id,question\n",
      "1,Is the Vegetarian Chili recipe suitable for a vegan diet?\n",
      "1,What are the main ingredients used in the Vegetarian Chili?\n",
      "1,How many calories does the Vegetarian Chili contain per serving?\n",
      "1,Can I add anything else to the Vegetarian Chili for more flavor?\n",
      "1,What is the recommended meal type for the Vegetarian Chili?\n",
      "2,Is the Grilled Chicken Salad suitable for someone with a gluten intolerance?\n",
      "2,What is the calorie content of the Grilled Chicken Salad per serving?\n",
      "2,Can you list the main ingredients used in this salad recipe?\n",
      "2,How much protein does the Grilled Chicken Salad provide?\n"
     ]
    }
   ],
   "source": [
    "!head data/ground-truth-retrieval.csv"
   ]
  },
  {
   "cell_type": "code",
   "execution_count": null,
   "id": "e73f10b1-1b06-4788-b7c5-a61f3ce75cec",
   "metadata": {},
   "outputs": [],
   "source": []
  }
 ],
 "metadata": {
  "kernelspec": {
   "display_name": "Python 3 (ipykernel)",
   "language": "python",
   "name": "python3"
  },
  "language_info": {
   "codemirror_mode": {
    "name": "ipython",
    "version": 3
   },
   "file_extension": ".py",
   "mimetype": "text/x-python",
   "name": "python",
   "nbconvert_exporter": "python",
   "pygments_lexer": "ipython3",
   "version": "3.11.9"
  }
 },
 "nbformat": 4,
 "nbformat_minor": 5
}
